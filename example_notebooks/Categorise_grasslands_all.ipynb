{
 "cells": [
  {
   "cell_type": "code",
   "execution_count": 1,
   "id": "f798fbd2-3c89-46bf-a5c5-fdc9d3a179a2",
   "metadata": {},
   "outputs": [],
   "source": [
    "#Standard libraries\n",
    "import os\n",
    "import time\n",
    "import sys\n",
    "#Third party libraries\n",
    "import rasterio\n",
    "import rasterio.plot\n",
    "import rasterio.mask\n",
    "import rasterio.io\n",
    "import matplotlib.pyplot as plt\n",
    "import numpy as np\n",
    "np.set_printoptions(legacy='1.25')\n",
    "import geopandas\n",
    "import pandas\n",
    "import fiona\n",
    "from tqdm.notebook import tqdm\n",
    "from shapely.geometry import Polygon\n",
    "#Local applications\n",
    "package_dir = os.path.dirname(os.getcwd())\n",
    "if package_dir not in sys.path:\n",
    "    sys.path.insert(0, package_dir)\n",
    "from hpr_detection_toolkit import utils\n",
    "from hpr_detection_toolkit.line_detection import LineSegmentDetector\n",
    "from hpr_detection_toolkit.hpr_detection import HprDitchDetector"
   ]
  },
  {
   "cell_type": "markdown",
   "id": "f4552454-2a76-41ae-9775-39527e22c5b5",
   "metadata": {},
   "source": [
    "# Setting up\n",
    "First we define the coordinate reference system in which we want to work in. "
   ]
  },
  {
   "cell_type": "code",
   "execution_count": 2,
   "id": "83a08b4e-951b-4314-a3d1-6c215b694f27",
   "metadata": {},
   "outputs": [],
   "source": [
    "target_crs = \"EPSG:31370\""
   ]
  },
  {
   "cell_type": "markdown",
   "id": "ffc111b0-20f4-44fd-97cd-ded745c03327",
   "metadata": {},
   "source": [
    "Next, we get point our program to the necessary data. Later, we load the data using the `utils` module of this package, which will check if the crs of the data sets and performs a reprojection on the fly if needed.\n",
    "\n",
    "In this example, we will use the vector data of the biological value map (BWK) and the agricultural usages plots (Lgp or Lbgebrperc), and the raster data of the VITO AI map regarding microrelief.\n",
    "\n",
    "> **Adjust the filepath for your own local set-up!**"
   ]
  },
  {
   "cell_type": "code",
   "execution_count": 13,
   "id": "93a13efa-5fd1-4ac0-878d-621e691b57dd",
   "metadata": {},
   "outputs": [],
   "source": [
    "bwk_filename = 'E:/Stage INBO/Data/BWK_2_20231107_GML/GML/BwkHab.gml'  # change this file path!\n",
    "lgp_filename = 'E:/Stage INBO/Data/Landbouwaangifte 2016-2020/Lbgb2016_2020.gdb'  # change this file path!\n",
    "VITO_dirname = 'E:/Stage INBO/Data/VITO_microrelief'  # change this file path!\n",
    "\n",
    "map_sheet_numbers = range(19,22)  # inspect KB19, KB20 and KB21\n",
    "map_sheet_numbers = [20]  # inspect only KB20\n",
    "\n",
    "output_dirname = 'DetectionMicrorelief'\n",
    "if not os.path.isdir(output_dirname): os.makedirs(output_dirname)"
   ]
  },
  {
   "cell_type": "markdown",
   "id": "8eace476-18c0-4ba4-aa44-760c07cba829",
   "metadata": {},
   "source": [
    "# Masking the search region in the BWK\n",
    "Not all grasslands should be inspected. The once that are already categorised as valuable don't need to be processed. To evaluate this, we use the BWK, making a filter out of it to select the right grasslands to perform the analyses on. \n",
    "\n",
    "1. We should only analyse grasslands that are not a habitat (HAB1 contains `gh` or `rbb`)\n",
    "2. Grasslands that are already categorised as `hpr`of `hpr+` in EENH1, don't need to be analysed"
   ]
  },
  {
   "cell_type": "raw",
   "id": "4491ba8a",
   "metadata": {},
   "source": [
    "bwk = utils.open_vector_data(bwk_filename, layer='BwkHab', target_crs=target_crs)\n",
    "mask_hpr = (bwk['EENH1'] == 'hpr') | (bwk['EENH1'] == 'hpr+')\n",
    "mask_gh = bwk['HAB1'].str.contains('gh')\n",
    "mask_rbb = bwk['HAB1'].str.contains('rbb')\n",
    "mask = (mask_gh | mask_rbb) & ~mask_hpr"
   ]
  },
  {
   "cell_type": "markdown",
   "id": "d3e86353-a224-40aa-8cbf-46756ee7b32a",
   "metadata": {},
   "source": [
    "To easily work with the search and nosearch region, we unify all the polygons into one geometry and store it as a geopandas.DataFrame. This step may already been preprocessed in the past. Therefore we check if the file already exist, and if not we calculate it and store it for future analyses."
   ]
  },
  {
   "cell_type": "code",
   "execution_count": 4,
   "id": "beb5f162-eebb-42df-a1a1-3415b994aeb5",
   "metadata": {},
   "outputs": [
    {
     "name": "stdout",
     "output_type": "stream",
     "text": [
      "Preprocessed file detected.\n",
      "Checking layers in data/DetectionMicrorelief_preprocessing.gpkg\n",
      "Layer search_region found in data/DetectionMicrorelief_preprocessing.gpkg and loaded in\n",
      "Layer nosearch_region found in data/DetectionMicrorelief_preprocessing.gpkg and loaded in\n"
     ]
    }
   ],
   "source": [
    "preprocessing_filename = 'data/DetectionMicrorelief_preprocessing.gpkg'\n",
    "preprocessed_layers = {}\n",
    "\n",
    "layers_to_load = ['search_region', 'nosearch_region']\n",
    "if os.path.isfile(preprocessing_filename):\n",
    "    print(f'Preprocessed file detected.')\n",
    "    print(f'Checking layers in {preprocessing_filename}')\n",
    "    for layer_name in layers_to_load:\n",
    "        if layer_name in fiona.listlayers(preprocessing_filename):\n",
    "            preprocessed_layers[layer_name] = geopandas.read_file(preprocessing_filename, layer=layer_name)\n",
    "            print(f'Layer {layer_name} found in {preprocessing_filename} and loaded in')\n",
    "\n",
    "for layer_name in layers_to_load:\n",
    "    if layer_name not in preprocessed_layers.keys():\n",
    "        print(f'Layer {layer_name} not found in {preprocessing_filename}')\n",
    "        if layer_name == 'nosearch_region':\n",
    "            nosearch_region = bwk[~mask].geometry.union_all()\n",
    "            preprocessed_layer['nosearch_region'] = geopandas.GeoDataFrame(geometry=[nosearch_region], crs=target_crs)\n",
    "            preprocessed_layer['nosearch_region'].to_file(preprocessing_filename, driver='GPKG', mode='a', layer='nosearch_region')\n",
    "            print(f'Layer {layer_name} calculated and saved to {preprocessing_filename}')\n",
    "        if layer_name == 'search_region':\n",
    "            search_region = bwk[mask].geometry.union_all()\n",
    "            preprocessed_layer['search_region'] = geopandas.GeoDataFrame(geometry=[search_region], crs=target_crs)\n",
    "            preprocessed_layer['search_region'].to_file(preprocessing_filename, driver='GPKG', mode='a', layer='search_region')\n",
    "            print(f'Layer {layer_name} calculated and saved to {preprocessing_filename}')"
   ]
  },
  {
   "cell_type": "markdown",
   "id": "9f5435e8-543b-4e7d-9977-08c295452ae9",
   "metadata": {},
   "source": [
    "# Analysing the permanent grasslands\n",
    "The categorisation of the grassland is based on the presence of ditches in the landplot. When a buffer zone around the ditches of 15 m covers 70% of the landplot's area, the grassland can be categorised as HPR. Therefore, we will try to detect the ditches and calculate the buffer fraction, which we store as a new attribute for each landplot.\n",
    "\n",
    "The landplots that are grassland can be obtained from the agriculture usage. We look only at permanent grassland, meaning the landplot has always been categorised as grassland during a certain time period (here 2016 to 2023)"
   ]
  },
  {
   "cell_type": "code",
   "execution_count": 5,
   "id": "494f335c-5c73-421a-bfa7-f6d37791efa0",
   "metadata": {},
   "outputs": [
    {
     "name": "stdout",
     "output_type": "stream",
     "text": [
      "Vector data in E:/Stage INBO/Data/Landbouwaangifte 2016-2020/Lbgb2016_2020.gdb in EPSG:31370, no reprojection.\n"
     ]
    }
   ],
   "source": [
    "lgp = utils.open_vector_data(lgp_filename, layer='Lbgebrperc2016_2023', target_crs=target_crs)\n",
    "grasslands = lgp[lgp['lgp_7j_BWK'] == 'Permanent grasland - hp']"
   ]
  },
  {
   "cell_type": "markdown",
   "id": "08d11ec8-5001-4698-95a1-8112603ce1f5",
   "metadata": {},
   "source": [
    "Next we analyse the permanent grasslands. Here we loop over all the different map sheets of the VITO map that we want to inspect. Because of this loop the process cannot be broken up to explain the different steps. For a more detailed explanation, look into the notebook that only handles map sheet 20 (KB20)."
   ]
  },
  {
   "cell_type": "code",
   "execution_count": 6,
   "id": "9d3fce85-bb6b-4e1d-896b-2fe7d52556b1",
   "metadata": {},
   "outputs": [
    {
     "name": "stdout",
     "output_type": "stream",
     "text": [
      "--------------------------\n",
      "##### Analysing KB20 #####\n",
      "--------------------------\n",
      "Raster data in E:/Stage INBO/Data/VITO_microrelief/KB20_predicted_logits.tif in EPSG:31370, no reprojection.\n",
      "KB20 contains 44999 landplots, of which 10882 (24%) are permanent grasslands\n",
      "Evaluating which grasslands to process\n"
     ]
    },
    {
     "data": {
      "application/vnd.jupyter.widget-view+json": {
       "model_id": "f5cbb4d2415f455eb9d3b945d4af69c3",
       "version_major": 2,
       "version_minor": 0
      },
      "text/plain": [
       "Selecting grasslands to analyse:   0%|          | 0/10882 [00:00<?, ?it/s]"
      ]
     },
     "metadata": {},
     "output_type": "display_data"
    },
    {
     "ename": "DataSourceError",
     "evalue": "sqlite3_open(./DetectionMicrorelief\\KB20.gpkg) failed: unable to open database file",
     "output_type": "error",
     "traceback": [
      "\u001b[31m---------------------------------------------------------------------------\u001b[39m",
      "\u001b[31mCPLE_OpenFailedError\u001b[39m                      Traceback (most recent call last)",
      "\u001b[36mFile \u001b[39m\u001b[32mpyogrio\\\\_io.pyx:2051\u001b[39m, in \u001b[36mpyogrio._io.ogr_create\u001b[39m\u001b[34m()\u001b[39m\n",
      "\u001b[36mFile \u001b[39m\u001b[32mpyogrio\\\\_err.pyx:218\u001b[39m, in \u001b[36mpyogrio._err.check_pointer\u001b[39m\u001b[34m()\u001b[39m\n",
      "\u001b[31mCPLE_OpenFailedError\u001b[39m: sqlite3_open(./DetectionMicrorelief\\KB20.gpkg) failed: unable to open database file",
      "\nDuring handling of the above exception, another exception occurred:\n",
      "\u001b[31mDataSourceError\u001b[39m                           Traceback (most recent call last)",
      "\u001b[36mCell\u001b[39m\u001b[36m \u001b[39m\u001b[32mIn[6]\u001b[39m\u001b[32m, line 35\u001b[39m\n\u001b[32m     33\u001b[39m             mask_grasslands[i] = \u001b[38;5;28;01mTrue\u001b[39;00m\n\u001b[32m     34\u001b[39m     grasslands_to_inspect = grasslands[mask_grasslands]\n\u001b[32m---> \u001b[39m\u001b[32m35\u001b[39m     \u001b[43mgrasslands_to_inspect\u001b[49m\u001b[43m.\u001b[49m\u001b[43mto_file\u001b[49m\u001b[43m(\u001b[49m\u001b[43moutput_filename\u001b[49m\u001b[43m,\u001b[49m\u001b[43m \u001b[49m\u001b[43mdriver\u001b[49m\u001b[43m=\u001b[49m\u001b[33;43m'\u001b[39;49m\u001b[33;43mGPKG\u001b[39;49m\u001b[33;43m'\u001b[39;49m\u001b[43m,\u001b[49m\u001b[43m \u001b[49m\u001b[43mmode\u001b[49m\u001b[43m=\u001b[49m\u001b[33;43m'\u001b[39;49m\u001b[33;43ma\u001b[39;49m\u001b[33;43m'\u001b[39;49m\u001b[43m,\u001b[49m\u001b[43m \u001b[49m\u001b[43mlayer\u001b[49m\u001b[43m=\u001b[49m\u001b[33;43m'\u001b[39;49m\u001b[33;43mgrassland_selection\u001b[39;49m\u001b[33;43m'\u001b[39;49m\u001b[43m)\u001b[49m\n\u001b[32m     36\u001b[39m     \u001b[38;5;28mprint\u001b[39m(\u001b[33mf\u001b[39m\u001b[33m\"\u001b[39m\u001b[33m> Grasslands selected and stored to layer \u001b[39m\u001b[33m'\u001b[39m\u001b[33mgrassland_selection\u001b[39m\u001b[33m'\u001b[39m\u001b[33m in \u001b[39m\u001b[38;5;132;01m{\u001b[39;00mprocessed_filename\u001b[38;5;132;01m}\u001b[39;00m\u001b[33m.\u001b[39m\u001b[33m\"\u001b[39m)    \n\u001b[32m     37\u001b[39m \u001b[38;5;28mprint\u001b[39m(\u001b[33mf\u001b[39m\u001b[33m'\u001b[39m\u001b[33mKB\u001b[39m\u001b[38;5;132;01m{\u001b[39;00mKBnr\u001b[38;5;132;01m}\u001b[39;00m\u001b[33m contains \u001b[39m\u001b[38;5;132;01m{\u001b[39;00m\u001b[38;5;28mlen\u001b[39m(grasslands_KB)\u001b[38;5;132;01m}\u001b[39;00m\u001b[33m permanent grasslands, of which \u001b[39m\u001b[38;5;132;01m{\u001b[39;00m\u001b[38;5;28mlen\u001b[39m(grasslands_to_inspect)\u001b[38;5;132;01m}\u001b[39;00m\u001b[33m'\u001b[39m + \n\u001b[32m     38\u001b[39m       \u001b[33mf\u001b[39m\u001b[33m'\u001b[39m\u001b[33m (\u001b[39m\u001b[38;5;132;01m{\u001b[39;00m\u001b[38;5;28mlen\u001b[39m(grasslands_to_inspect)/\u001b[38;5;28mlen\u001b[39m(grasslands_KB)*\u001b[32m100\u001b[39m\u001b[38;5;132;01m:\u001b[39;00m\u001b[33m.0f\u001b[39m\u001b[38;5;132;01m}\u001b[39;00m\u001b[33m%) need to be analysed.\u001b[39m\u001b[33m'\u001b[39m)\n",
      "\u001b[36mFile \u001b[39m\u001b[32m~\\miniconda3\\envs\\test_env\\Lib\\site-packages\\geopandas\\geodataframe.py:1536\u001b[39m, in \u001b[36mGeoDataFrame.to_file\u001b[39m\u001b[34m(self, filename, driver, schema, index, **kwargs)\u001b[39m\n\u001b[32m   1441\u001b[39m \u001b[38;5;250m\u001b[39m\u001b[33;03m\"\"\"Write the ``GeoDataFrame`` to a file.\u001b[39;00m\n\u001b[32m   1442\u001b[39m \n\u001b[32m   1443\u001b[39m \u001b[33;03mBy default, an ESRI shapefile is written, but any OGR data source\u001b[39;00m\n\u001b[32m   (...)\u001b[39m\u001b[32m   1532\u001b[39m \n\u001b[32m   1533\u001b[39m \u001b[33;03m\"\"\"\u001b[39;00m\n\u001b[32m   1534\u001b[39m \u001b[38;5;28;01mfrom\u001b[39;00m\u001b[38;5;250m \u001b[39m\u001b[34;01mgeopandas\u001b[39;00m\u001b[34;01m.\u001b[39;00m\u001b[34;01mio\u001b[39;00m\u001b[34;01m.\u001b[39;00m\u001b[34;01mfile\u001b[39;00m\u001b[38;5;250m \u001b[39m\u001b[38;5;28;01mimport\u001b[39;00m _to_file\n\u001b[32m-> \u001b[39m\u001b[32m1536\u001b[39m \u001b[43m_to_file\u001b[49m\u001b[43m(\u001b[49m\u001b[38;5;28;43mself\u001b[39;49m\u001b[43m,\u001b[49m\u001b[43m \u001b[49m\u001b[43mfilename\u001b[49m\u001b[43m,\u001b[49m\u001b[43m \u001b[49m\u001b[43mdriver\u001b[49m\u001b[43m,\u001b[49m\u001b[43m \u001b[49m\u001b[43mschema\u001b[49m\u001b[43m,\u001b[49m\u001b[43m \u001b[49m\u001b[43mindex\u001b[49m\u001b[43m,\u001b[49m\u001b[43m \u001b[49m\u001b[43m*\u001b[49m\u001b[43m*\u001b[49m\u001b[43mkwargs\u001b[49m\u001b[43m)\u001b[49m\n",
      "\u001b[36mFile \u001b[39m\u001b[32m~\\miniconda3\\envs\\test_env\\Lib\\site-packages\\geopandas\\io\\file.py:686\u001b[39m, in \u001b[36m_to_file\u001b[39m\u001b[34m(df, filename, driver, schema, index, mode, crs, engine, metadata, **kwargs)\u001b[39m\n\u001b[32m    683\u001b[39m     \u001b[38;5;28;01mraise\u001b[39;00m \u001b[38;5;167;01mValueError\u001b[39;00m(\u001b[33mf\u001b[39m\u001b[33m\"\u001b[39m\u001b[33m'\u001b[39m\u001b[33mmode\u001b[39m\u001b[33m'\u001b[39m\u001b[33m should be one of \u001b[39m\u001b[33m'\u001b[39m\u001b[33mw\u001b[39m\u001b[33m'\u001b[39m\u001b[33m or \u001b[39m\u001b[33m'\u001b[39m\u001b[33ma\u001b[39m\u001b[33m'\u001b[39m\u001b[33m, got \u001b[39m\u001b[33m'\u001b[39m\u001b[38;5;132;01m{\u001b[39;00mmode\u001b[38;5;132;01m}\u001b[39;00m\u001b[33m'\u001b[39m\u001b[33m instead\u001b[39m\u001b[33m\"\u001b[39m)\n\u001b[32m    685\u001b[39m \u001b[38;5;28;01mif\u001b[39;00m engine == \u001b[33m\"\u001b[39m\u001b[33mpyogrio\u001b[39m\u001b[33m\"\u001b[39m:\n\u001b[32m--> \u001b[39m\u001b[32m686\u001b[39m     \u001b[43m_to_file_pyogrio\u001b[49m\u001b[43m(\u001b[49m\u001b[43mdf\u001b[49m\u001b[43m,\u001b[49m\u001b[43m \u001b[49m\u001b[43mfilename\u001b[49m\u001b[43m,\u001b[49m\u001b[43m \u001b[49m\u001b[43mdriver\u001b[49m\u001b[43m,\u001b[49m\u001b[43m \u001b[49m\u001b[43mschema\u001b[49m\u001b[43m,\u001b[49m\u001b[43m \u001b[49m\u001b[43mcrs\u001b[49m\u001b[43m,\u001b[49m\u001b[43m \u001b[49m\u001b[43mmode\u001b[49m\u001b[43m,\u001b[49m\u001b[43m \u001b[49m\u001b[43mmetadata\u001b[49m\u001b[43m,\u001b[49m\u001b[43m \u001b[49m\u001b[43m*\u001b[49m\u001b[43m*\u001b[49m\u001b[43mkwargs\u001b[49m\u001b[43m)\u001b[49m\n\u001b[32m    687\u001b[39m \u001b[38;5;28;01melif\u001b[39;00m engine == \u001b[33m\"\u001b[39m\u001b[33mfiona\u001b[39m\u001b[33m\"\u001b[39m:\n\u001b[32m    688\u001b[39m     _to_file_fiona(df, filename, driver, schema, crs, mode, metadata, **kwargs)\n",
      "\u001b[36mFile \u001b[39m\u001b[32m~\\miniconda3\\envs\\test_env\\Lib\\site-packages\\geopandas\\io\\file.py:748\u001b[39m, in \u001b[36m_to_file_pyogrio\u001b[39m\u001b[34m(df, filename, driver, schema, crs, mode, metadata, **kwargs)\u001b[39m\n\u001b[32m    745\u001b[39m \u001b[38;5;28;01mif\u001b[39;00m \u001b[38;5;129;01mnot\u001b[39;00m df.columns.is_unique:\n\u001b[32m    746\u001b[39m     \u001b[38;5;28;01mraise\u001b[39;00m \u001b[38;5;167;01mValueError\u001b[39;00m(\u001b[33m\"\u001b[39m\u001b[33mGeoDataFrame cannot contain duplicated column names.\u001b[39m\u001b[33m\"\u001b[39m)\n\u001b[32m--> \u001b[39m\u001b[32m748\u001b[39m \u001b[43mpyogrio\u001b[49m\u001b[43m.\u001b[49m\u001b[43mwrite_dataframe\u001b[49m\u001b[43m(\u001b[49m\u001b[43mdf\u001b[49m\u001b[43m,\u001b[49m\u001b[43m \u001b[49m\u001b[43mfilename\u001b[49m\u001b[43m,\u001b[49m\u001b[43m \u001b[49m\u001b[43mdriver\u001b[49m\u001b[43m=\u001b[49m\u001b[43mdriver\u001b[49m\u001b[43m,\u001b[49m\u001b[43m \u001b[49m\u001b[43mmetadata\u001b[49m\u001b[43m=\u001b[49m\u001b[43mmetadata\u001b[49m\u001b[43m,\u001b[49m\u001b[43m \u001b[49m\u001b[43m*\u001b[49m\u001b[43m*\u001b[49m\u001b[43mkwargs\u001b[49m\u001b[43m)\u001b[49m\n",
      "\u001b[36mFile \u001b[39m\u001b[32m~\\miniconda3\\envs\\test_env\\Lib\\site-packages\\pyogrio\\geopandas.py:710\u001b[39m, in \u001b[36mwrite_dataframe\u001b[39m\u001b[34m(df, path, layer, driver, encoding, geometry_type, promote_to_multi, nan_as_null, append, use_arrow, dataset_metadata, layer_metadata, metadata, dataset_options, layer_options, **kwargs)\u001b[39m\n\u001b[32m    707\u001b[39m         field_data.append(values)\n\u001b[32m    708\u001b[39m         field_mask.append(\u001b[38;5;28;01mNone\u001b[39;00m)\n\u001b[32m--> \u001b[39m\u001b[32m710\u001b[39m \u001b[43mwrite\u001b[49m\u001b[43m(\u001b[49m\n\u001b[32m    711\u001b[39m \u001b[43m    \u001b[49m\u001b[43mpath\u001b[49m\u001b[43m,\u001b[49m\n\u001b[32m    712\u001b[39m \u001b[43m    \u001b[49m\u001b[43mlayer\u001b[49m\u001b[43m=\u001b[49m\u001b[43mlayer\u001b[49m\u001b[43m,\u001b[49m\n\u001b[32m    713\u001b[39m \u001b[43m    \u001b[49m\u001b[43mdriver\u001b[49m\u001b[43m=\u001b[49m\u001b[43mdriver\u001b[49m\u001b[43m,\u001b[49m\n\u001b[32m    714\u001b[39m \u001b[43m    \u001b[49m\u001b[43mgeometry\u001b[49m\u001b[43m=\u001b[49m\u001b[43mgeometry\u001b[49m\u001b[43m,\u001b[49m\n\u001b[32m    715\u001b[39m \u001b[43m    \u001b[49m\u001b[43mfield_data\u001b[49m\u001b[43m=\u001b[49m\u001b[43mfield_data\u001b[49m\u001b[43m,\u001b[49m\n\u001b[32m    716\u001b[39m \u001b[43m    \u001b[49m\u001b[43mfield_mask\u001b[49m\u001b[43m=\u001b[49m\u001b[43mfield_mask\u001b[49m\u001b[43m,\u001b[49m\n\u001b[32m    717\u001b[39m \u001b[43m    \u001b[49m\u001b[43mfields\u001b[49m\u001b[43m=\u001b[49m\u001b[43mfields\u001b[49m\u001b[43m,\u001b[49m\n\u001b[32m    718\u001b[39m \u001b[43m    \u001b[49m\u001b[43mcrs\u001b[49m\u001b[43m=\u001b[49m\u001b[43mcrs\u001b[49m\u001b[43m,\u001b[49m\n\u001b[32m    719\u001b[39m \u001b[43m    \u001b[49m\u001b[43mgeometry_type\u001b[49m\u001b[43m=\u001b[49m\u001b[43mgeometry_type\u001b[49m\u001b[43m,\u001b[49m\n\u001b[32m    720\u001b[39m \u001b[43m    \u001b[49m\u001b[43mencoding\u001b[49m\u001b[43m=\u001b[49m\u001b[43mencoding\u001b[49m\u001b[43m,\u001b[49m\n\u001b[32m    721\u001b[39m \u001b[43m    \u001b[49m\u001b[43mpromote_to_multi\u001b[49m\u001b[43m=\u001b[49m\u001b[43mpromote_to_multi\u001b[49m\u001b[43m,\u001b[49m\n\u001b[32m    722\u001b[39m \u001b[43m    \u001b[49m\u001b[43mnan_as_null\u001b[49m\u001b[43m=\u001b[49m\u001b[43mnan_as_null\u001b[49m\u001b[43m,\u001b[49m\n\u001b[32m    723\u001b[39m \u001b[43m    \u001b[49m\u001b[43mappend\u001b[49m\u001b[43m=\u001b[49m\u001b[43mappend\u001b[49m\u001b[43m,\u001b[49m\n\u001b[32m    724\u001b[39m \u001b[43m    \u001b[49m\u001b[43mdataset_metadata\u001b[49m\u001b[43m=\u001b[49m\u001b[43mdataset_metadata\u001b[49m\u001b[43m,\u001b[49m\n\u001b[32m    725\u001b[39m \u001b[43m    \u001b[49m\u001b[43mlayer_metadata\u001b[49m\u001b[43m=\u001b[49m\u001b[43mlayer_metadata\u001b[49m\u001b[43m,\u001b[49m\n\u001b[32m    726\u001b[39m \u001b[43m    \u001b[49m\u001b[43mmetadata\u001b[49m\u001b[43m=\u001b[49m\u001b[43mmetadata\u001b[49m\u001b[43m,\u001b[49m\n\u001b[32m    727\u001b[39m \u001b[43m    \u001b[49m\u001b[43mdataset_options\u001b[49m\u001b[43m=\u001b[49m\u001b[43mdataset_options\u001b[49m\u001b[43m,\u001b[49m\n\u001b[32m    728\u001b[39m \u001b[43m    \u001b[49m\u001b[43mlayer_options\u001b[49m\u001b[43m=\u001b[49m\u001b[43mlayer_options\u001b[49m\u001b[43m,\u001b[49m\n\u001b[32m    729\u001b[39m \u001b[43m    \u001b[49m\u001b[43mgdal_tz_offsets\u001b[49m\u001b[43m=\u001b[49m\u001b[43mgdal_tz_offsets\u001b[49m\u001b[43m,\u001b[49m\n\u001b[32m    730\u001b[39m \u001b[43m    \u001b[49m\u001b[43m*\u001b[49m\u001b[43m*\u001b[49m\u001b[43mkwargs\u001b[49m\u001b[43m,\u001b[49m\n\u001b[32m    731\u001b[39m \u001b[43m\u001b[49m\u001b[43m)\u001b[49m\n",
      "\u001b[36mFile \u001b[39m\u001b[32m~\\miniconda3\\envs\\test_env\\Lib\\site-packages\\pyogrio\\raw.py:723\u001b[39m, in \u001b[36mwrite\u001b[39m\u001b[34m(path, geometry, field_data, fields, field_mask, layer, driver, geometry_type, crs, encoding, promote_to_multi, nan_as_null, append, dataset_metadata, layer_metadata, metadata, dataset_options, layer_options, gdal_tz_offsets, **kwargs)\u001b[39m\n\u001b[32m    718\u001b[39m \u001b[38;5;66;03m# preprocess kwargs and split in dataset and layer creation options\u001b[39;00m\n\u001b[32m    719\u001b[39m dataset_kwargs, layer_kwargs = _preprocess_options_kwargs(\n\u001b[32m    720\u001b[39m     driver, dataset_options, layer_options, kwargs\n\u001b[32m    721\u001b[39m )\n\u001b[32m--> \u001b[39m\u001b[32m723\u001b[39m \u001b[43mogr_write\u001b[49m\u001b[43m(\u001b[49m\n\u001b[32m    724\u001b[39m \u001b[43m    \u001b[49m\u001b[43mpath\u001b[49m\u001b[43m,\u001b[49m\n\u001b[32m    725\u001b[39m \u001b[43m    \u001b[49m\u001b[43mlayer\u001b[49m\u001b[43m=\u001b[49m\u001b[43mlayer\u001b[49m\u001b[43m,\u001b[49m\n\u001b[32m    726\u001b[39m \u001b[43m    \u001b[49m\u001b[43mdriver\u001b[49m\u001b[43m=\u001b[49m\u001b[43mdriver\u001b[49m\u001b[43m,\u001b[49m\n\u001b[32m    727\u001b[39m \u001b[43m    \u001b[49m\u001b[43mgeometry\u001b[49m\u001b[43m=\u001b[49m\u001b[43mgeometry\u001b[49m\u001b[43m,\u001b[49m\n\u001b[32m    728\u001b[39m \u001b[43m    \u001b[49m\u001b[43mgeometry_type\u001b[49m\u001b[43m=\u001b[49m\u001b[43mgeometry_type\u001b[49m\u001b[43m,\u001b[49m\n\u001b[32m    729\u001b[39m \u001b[43m    \u001b[49m\u001b[43mfield_data\u001b[49m\u001b[43m=\u001b[49m\u001b[43mfield_data\u001b[49m\u001b[43m,\u001b[49m\n\u001b[32m    730\u001b[39m \u001b[43m    \u001b[49m\u001b[43mfield_mask\u001b[49m\u001b[43m=\u001b[49m\u001b[43mfield_mask\u001b[49m\u001b[43m,\u001b[49m\n\u001b[32m    731\u001b[39m \u001b[43m    \u001b[49m\u001b[43mfields\u001b[49m\u001b[43m=\u001b[49m\u001b[43mfields\u001b[49m\u001b[43m,\u001b[49m\n\u001b[32m    732\u001b[39m \u001b[43m    \u001b[49m\u001b[43mcrs\u001b[49m\u001b[43m=\u001b[49m\u001b[43mcrs\u001b[49m\u001b[43m,\u001b[49m\n\u001b[32m    733\u001b[39m \u001b[43m    \u001b[49m\u001b[43mencoding\u001b[49m\u001b[43m=\u001b[49m\u001b[43mencoding\u001b[49m\u001b[43m,\u001b[49m\n\u001b[32m    734\u001b[39m \u001b[43m    \u001b[49m\u001b[43mpromote_to_multi\u001b[49m\u001b[43m=\u001b[49m\u001b[43mpromote_to_multi\u001b[49m\u001b[43m,\u001b[49m\n\u001b[32m    735\u001b[39m \u001b[43m    \u001b[49m\u001b[43mnan_as_null\u001b[49m\u001b[43m=\u001b[49m\u001b[43mnan_as_null\u001b[49m\u001b[43m,\u001b[49m\n\u001b[32m    736\u001b[39m \u001b[43m    \u001b[49m\u001b[43mappend\u001b[49m\u001b[43m=\u001b[49m\u001b[43mappend\u001b[49m\u001b[43m,\u001b[49m\n\u001b[32m    737\u001b[39m \u001b[43m    \u001b[49m\u001b[43mdataset_metadata\u001b[49m\u001b[43m=\u001b[49m\u001b[43mdataset_metadata\u001b[49m\u001b[43m,\u001b[49m\n\u001b[32m    738\u001b[39m \u001b[43m    \u001b[49m\u001b[43mlayer_metadata\u001b[49m\u001b[43m=\u001b[49m\u001b[43mlayer_metadata\u001b[49m\u001b[43m,\u001b[49m\n\u001b[32m    739\u001b[39m \u001b[43m    \u001b[49m\u001b[43mdataset_kwargs\u001b[49m\u001b[43m=\u001b[49m\u001b[43mdataset_kwargs\u001b[49m\u001b[43m,\u001b[49m\n\u001b[32m    740\u001b[39m \u001b[43m    \u001b[49m\u001b[43mlayer_kwargs\u001b[49m\u001b[43m=\u001b[49m\u001b[43mlayer_kwargs\u001b[49m\u001b[43m,\u001b[49m\n\u001b[32m    741\u001b[39m \u001b[43m    \u001b[49m\u001b[43mgdal_tz_offsets\u001b[49m\u001b[43m=\u001b[49m\u001b[43mgdal_tz_offsets\u001b[49m\u001b[43m,\u001b[49m\n\u001b[32m    742\u001b[39m \u001b[43m\u001b[49m\u001b[43m)\u001b[49m\n",
      "\u001b[36mFile \u001b[39m\u001b[32mpyogrio\\\\_io.pyx:2434\u001b[39m, in \u001b[36mpyogrio._io.ogr_write\u001b[39m\u001b[34m()\u001b[39m\n",
      "\u001b[36mFile \u001b[39m\u001b[32mpyogrio\\\\_io.pyx:2253\u001b[39m, in \u001b[36mpyogrio._io.create_ogr_dataset_layer\u001b[39m\u001b[34m()\u001b[39m\n",
      "\u001b[36mFile \u001b[39m\u001b[32mpyogrio\\\\_io.pyx:2067\u001b[39m, in \u001b[36mpyogrio._io.ogr_create\u001b[39m\u001b[34m()\u001b[39m\n",
      "\u001b[31mDataSourceError\u001b[39m: sqlite3_open(./DetectionMicrorelief\\KB20.gpkg) failed: unable to open database file"
     ]
    }
   ],
   "source": [
    "for KBnr in map_sheet_numbers:\n",
    "    title_string = f'##### Analysing KB{KBnr} #####'\n",
    "    print('-' * len(title_string))\n",
    "    print(title_string)\n",
    "    print('-' * len(title_string))\n",
    "\n",
    "    \n",
    "    output_filename = output_dirname + f'/KB{KBnr}.gpkg'\n",
    "    \n",
    "    \n",
    "    VITO_map = utils.open_raster_data(VITO_dirname + f'/KB{KBnr}_predicted_logits.tif', target_crs=target_crs)\n",
    "    left, bottom, right, top = VITO_map.bounds\n",
    "    KB_boarder = Polygon([(left, bottom), (left, top), (right, top), (right, bottom)])\n",
    "    grasslands_KB = grasslands[grasslands.within(KB_boarder)]\n",
    "    print(f'KB{KBnr} contains {len(lgp[lgp.within(KB_boarder)])} landplots,' +\n",
    "          f' of which {len(grasslands_KB)} ({len(grasslands_KB)/len(lgp[lgp.within(KB_boarder)])*100:.0f}%) are permanent grasslands')\n",
    "\n",
    "    \n",
    "    print(f'Evaluating which grasslands to process')\n",
    "    grasslands_to_inspect = None\n",
    "    if os.path.isfile(output_filename):\n",
    "        print(f\"> Output file '{output_filename}' detected.\")\n",
    "        print(f\"> Checking if file contains selection of grasslands to inspect.\")\n",
    "        if 'grassland_selection' in fiona.listlayers(output_filename):\n",
    "            grasslands_to_inspect = geopandas.read_file(output_filename, layer='grassland_selection')\n",
    "            print(f'> Grassland selection found in and loaded in')\n",
    "    if grasslands_to_inspect is None:\n",
    "        mask_grasslands = np.zeros(len(grasslands), dtype=bool)\n",
    "        for i in tqdm(range(len(grasslands_KB)), total=len(grasslands_KB), desc=\"Selecting grasslands to analyse\"):\n",
    "            intersection = grasslands_KB.iloc[i]['geometry'].intersection(preprocessed_layers['search_region'].loc[0,'geometry'])\n",
    "            overlap_fraction = intersection.area / grasslands_KB.iloc[i]['geometry'].area\n",
    "            if overlap_fraction > .75:\n",
    "                mask_grasslands[i] = True\n",
    "        grasslands_to_inspect = grasslands_KB[mask_grasslands]\n",
    "        grasslands_to_inspect.to_file(output_filename, driver='GPKG', mode='a', layer='grassland_selection')\n",
    "        print(f\"> Grasslands selected and stored to layer 'grassland_selection' in {processed_filename}.\")    \n",
    "    print(f'KB{KBnr} contains {len(grasslands_KB)} permanent grasslands, of which {len(grasslands_to_inspect)}' + \n",
    "          f' ({len(grasslands_to_inspect)/len(grasslands_KB)*100:.0f}%) need to be analysed.')\n",
    "\n",
    "    \n",
    "    print('Initialising the hpr ditch detector')\n",
    "    grasslands_to_inspect['ditch_buffer_fraction'] = np.nan\n",
    "    lsd = LineSegmentDetector()\n",
    "    user_config = {'buffer_zone': {\n",
    "                        'distance': 15.},\n",
    "                   'filter_background': {\n",
    "                        'threshold_value': .5*255}\n",
    "                  }\n",
    "    hpr_detector = HprDitchDetector(VITO_map, lsd, config=user_config)\n",
    "\n",
    "    \n",
    "    ditches = [None] *len(grasslands_to_inspect)\n",
    "    buffer_zones = [None] *len(grasslands_to_inspect)\n",
    "    for i in tqdm(range(len(grasslands_to_inspect)), desc=\"Processeing selected grasslands\"):\n",
    "        index = grasslands_to_inspect.index[i]\n",
    "        landplot = grasslands_to_inspect.iloc[i:i+1]\n",
    "        hpr_detector.process(landplot)\n",
    "        ditches[i] = hpr_detector.get_ditches(multilinestring=True).geometry.loc[0]\n",
    "        buffer_zones[i] = hpr_detector.get_buffer_zone().geometry\n",
    "        if buffer_zones[i] is not None: buffer_zones[i] = buffer_zones[i].loc[0]\n",
    "        grasslands_to_inspect.loc[index,'ditch_buffer_fraction'] = hpr_detector.get_hpr_fraction()  \n",
    "    ditches = geopandas.GeoDataFrame(geometry=ditches, crs=target_crs)\n",
    "    buffer_zones = geopandas.GeoDataFrame(geometry=buffer_zones, crs=target_crs)\n",
    "    print(f'Of the {len(grasslands_to_inspect)} inspected grasslands in KB{KBnr}, ' + \n",
    "      f'{len(grasslands_to_inspect[grasslands_to_inspect.ditch_buffer_fraction > .65])} ' + \n",
    "      f'of them are hpr candidates based on ditch detection during this processing')\n",
    "\n",
    "    print('Saving the processed grasslands, ditches and buffer zones')\n",
    "    grasslands_to_inspect.to_file(output_filename, driver='GPKG', layer='grasslands_processed')\n",
    "    ditches.to_file(output_filename, driver='GPKG', layer='ditches')\n",
    "    buffer_zones.to_file(output_filename, driver='GPKG', layer='buffer_zones')\n",
    "    \n",
    "\n",
    "    plot_directory = output_dirname + '/plot')\n",
    "    if not os.path.isdir(plot_directory): os.makedirs(plot_directory)\n",
    "    for i in tqdm(range(len(grasslands_to_inspect)), desc=\"Plotting newly detected hpr grasslands\"):\n",
    "        grassland = grasslands_to_inspect.iloc[i]\n",
    "        \n",
    "        if grassland.ditch_buffer_fraction > .65:          \n",
    "            clipped_image = utils.clip_raster(VITO_map, grassland.geometry.geoms)\n",
    "        \n",
    "            fig, ax = plt.subplots()\n",
    "            # Display the raster image\n",
    "            rasterio.plot.show(clipped_image, ax=ax, cmap='gray_r')\n",
    "            # Plot the detected lines\n",
    "            grasslands_to_inspect[i:i+1].plot(ax=ax, edgecolor='green', lw=1, label='Perceel', facecolor='none')\n",
    "            buffer_zones.iloc[i:i+1].plot(ax=ax, color='orange', alpha=0.5, label='30m Buffer')\n",
    "            ditches.iloc[i:i+1].plot(ax=ax, color='purple', linewidth=2, label='Grachtjes')\n",
    "            \n",
    "            fig.suptitle(\"Detected Lines on Georeferenced Image\")\n",
    "            ax.set_title(f\"Ditches detected with a buffer zone fraction of {grassland.ditch_buffer_fraction}\")\n",
    "            ax.set_xlabel(\"Longitude\")\n",
    "            ax.set_ylabel(\"Latitude\")\n",
    "        \n",
    "            fig.savefig(plot_directory + f'/KB20_grassland-{grassland.OBJECTID}.png')\n",
    "            plt.close(fig)\n",
    "\n",
    "    print('-' * len(title_string))"
   ]
  },
  {
   "cell_type": "code",
   "execution_count": null,
   "id": "48c0c38a-ba55-470a-b066-07f06b93a07a",
   "metadata": {},
   "outputs": [],
   "source": []
  }
 ],
 "metadata": {
  "kernelspec": {
   "display_name": "Python 3 (ipykernel)",
   "language": "python",
   "name": "python3"
  },
  "language_info": {
   "codemirror_mode": {
    "name": "ipython",
    "version": 3
   },
   "file_extension": ".py",
   "mimetype": "text/x-python",
   "name": "python",
   "nbconvert_exporter": "python",
   "pygments_lexer": "ipython3",
   "version": "3.13.2"
  }
 },
 "nbformat": 4,
 "nbformat_minor": 5
}
