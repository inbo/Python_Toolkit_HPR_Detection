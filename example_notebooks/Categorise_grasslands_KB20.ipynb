{
 "cells": [
  {
   "cell_type": "code",
   "execution_count": 1,
   "id": "f798fbd2-3c89-46bf-a5c5-fdc9d3a179a2",
   "metadata": {},
   "outputs": [],
   "source": [
    "#Standard libraries\n",
    "import os\n",
    "import time\n",
    "import sys\n",
    "#Third party libraries\n",
    "import rasterio\n",
    "import rasterio.plot\n",
    "import rasterio.mask\n",
    "import rasterio.io\n",
    "import matplotlib.pyplot as plt\n",
    "import numpy as np\n",
    "np.set_printoptions(legacy='1.25')\n",
    "import geopandas\n",
    "import pandas\n",
    "import fiona\n",
    "from tqdm.notebook import tqdm\n",
    "#Local applications\n",
    "package_dir = os.path.dirname(os.getcwd())\n",
    "if package_dir not in sys.path:\n",
    "    sys.path.insert(0, package_dir)\n",
    "from hpr_detection_toolkit import utils\n",
    "from hpr_detection_toolkit.line_detection import LineSegmentDetector\n",
    "from hpr_detection_toolkit.hpr_detection import HprDitchDetector"
   ]
  },
  {
   "cell_type": "markdown",
   "id": "f4552454-2a76-41ae-9775-39527e22c5b5",
   "metadata": {},
   "source": [
    "# Setting up\n",
    "First we define the coordinate reference system in which we want to work in. "
   ]
  },
  {
   "cell_type": "code",
   "execution_count": 2,
   "id": "83a08b4e-951b-4314-a3d1-6c215b694f27",
   "metadata": {},
   "outputs": [],
   "source": [
    "target_crs = \"EPSG:31370\""
   ]
  },
  {
   "cell_type": "markdown",
   "id": "ffc111b0-20f4-44fd-97cd-ded745c03327",
   "metadata": {},
   "source": [
    "Next we get we load the necessary data.\n",
    "\n",
    "In this example, we will use the vector data of the biological value map (BWK) and the agricultural usages plots (Lgp or Lbgebrperc), and the raster data of the VITO AI map regarding microrelief. We load this data using the `utils` module of this package, which will check if the crs of data set and performs a reprojection on the fly if needed.\n",
    "\n",
    "Note: to speed up the calculations, we limit this example to KB20 of the VITO raster map. Therefore, we preselected the agricultural usage plots located only within the boundaries of this raster map using QGIS. We saved both the raster map, the polygon representing the rasters boundary and the landplots in the `KB20.gpkg` geopackage file.\n",
    "\n",
    "> **Adjust the filepath for your own local set-up!**"
   ]
  },
  {
   "cell_type": "raw",
   "id": "cb99cdc6-a413-45f3-8090-f0173c80c34c",
   "metadata": {},
   "source": [
    "bwk = utils.open_vector_data('E:/Stage INBO/Data/BWK_2_20231107_GML/GML/BwkHab.gml', layer='BwkHab', target_crs=target_crs)"
   ]
  },
  {
   "cell_type": "code",
   "execution_count": 3,
   "id": "411985e6-0382-43ef-9fbe-40d67431b5fe",
   "metadata": {},
   "outputs": [
    {
     "name": "stdout",
     "output_type": "stream",
     "text": [
      "Vector data in data/KB20.gpkg in EPSG:31370, no reprojection.\n"
     ]
    }
   ],
   "source": [
    "lgp = utils.open_vector_data('data/KB20.gpkg', layer='Lbgebrperc2016_2023', target_crs=target_crs)"
   ]
  },
  {
   "cell_type": "code",
   "execution_count": 4,
   "id": "9d3fce85-bb6b-4e1d-896b-2fe7d52556b1",
   "metadata": {},
   "outputs": [
    {
     "name": "stdout",
     "output_type": "stream",
     "text": [
      "Raster data in GPKG:data/KB20.gpkg:VITO_predicted_logits in EPSG:31370, no reprojection.\n"
     ]
    }
   ],
   "source": [
    "VITO_map = utils.open_raster_data('data/KB20.gpkg', layer='VITO_predicted_logits', target_crs=target_crs)\n",
    "#VITO_map = utils.open_raster_data('E:/Stage INBO/Data/VITO_microrelief/KB20_predicted_logits.tif', target_crs=target_crs)"
   ]
  },
  {
   "cell_type": "markdown",
   "id": "8eace476-18c0-4ba4-aa44-760c07cba829",
   "metadata": {},
   "source": [
    "# Selecting the grasslands\n",
    "### Masking the search region in the BWK\n",
    "Next, we will filter the data and select the right grasslands to perform the analyses on. \n",
    "\n",
    "1. We should only analyse grasslands that are not a habitat (HAB1 contains `gh` or `rbb`)\n",
    "2. Grasslands that are already categorised as `hpr`of `hpr+` in EENH1, don't need to be analysed"
   ]
  },
  {
   "cell_type": "raw",
   "id": "aceb899f-1ca6-4735-9c43-851c3c3efb0b",
   "metadata": {},
   "source": [
    "mask_hpr = (bwk['EENH1'] == 'hpr') | (bwk['EENH1'] == 'hpr+')\n",
    "mask_gh = bwk['HAB1'].str.contains('gh')\n",
    "mask_rbb = bwk['HAB1'].str.contains('rbb')\n",
    "mask = (mask_gh | mask_rbb) & ~mask_hpr"
   ]
  },
  {
   "cell_type": "markdown",
   "id": "d3e86353-a224-40aa-8cbf-46756ee7b32a",
   "metadata": {},
   "source": [
    "To easily work with the search and nosearch region, we unify all the polygons into one geometry and store it as a geopandas.DataFrame. This step may already been preprocessed in the past. Therefore we check if the file already exist, and if not we calculate it and store it for future analyses."
   ]
  },
  {
   "cell_type": "code",
   "execution_count": 5,
   "id": "beb5f162-eebb-42df-a1a1-3415b994aeb5",
   "metadata": {},
   "outputs": [
    {
     "name": "stdout",
     "output_type": "stream",
     "text": [
      "Preprocessed file detected.\n",
      "Checking layers in data/DetectionMicrorelief_preprocessing.gpkg\n",
      "Layer search_region found in data/DetectionMicrorelief_preprocessing.gpkg and loaded in\n",
      "Layer nosearch_region found in data/DetectionMicrorelief_preprocessing.gpkg and loaded in\n"
     ]
    }
   ],
   "source": [
    "preprocessing_filename = 'data/DetectionMicrorelief_preprocessing.gpkg'\n",
    "preprocessed_layers = {}\n",
    "\n",
    "layers_to_load = ['search_region', 'nosearch_region']\n",
    "if os.path.isfile(preprocessing_filename):\n",
    "    print(f'Preprocessed file detected.')\n",
    "    print(f'Checking layers in {preprocessing_filename}')\n",
    "    for layer_name in layers_to_load:\n",
    "        if layer_name in fiona.listlayers(preprocessing_filename):\n",
    "            preprocessed_layers[layer_name] = geopandas.read_file(preprocessing_filename, layer=layer_name)\n",
    "            print(f'Layer {layer_name} found in {preprocessing_filename} and loaded in')\n",
    "\n",
    "for layer_name in layers_to_load:\n",
    "    if layer_name not in preprocessed_layers.keys():\n",
    "        print(f'Layer {layer_name} not found in {preprocessing_filename}')\n",
    "        if layer_name == 'nosearch_region':\n",
    "            nosearch_region = bwk[~mask].geometry.union_all()\n",
    "            preprocessed_layer['nosearch_region'] = geopandas.GeoDataFrame(geometry=[nosearch_region], crs=target_crs)\n",
    "            preprocessed_layer['nosearch_region'].to_file(preprocessing_filename, driver='GPKG', mode='a', layer='nosearch_region')\n",
    "            print(f'Layer {layer_name} calculated and saved to {preprocessing_filename}')\n",
    "        if layer_name == 'search_region':\n",
    "            search_region = bwk[mask].geometry.union_all()\n",
    "            preprocessed_layer['search_region'] = geopandas.GeoDataFrame(geometry=[search_region], crs=target_crs)\n",
    "            preprocessed_layer['search_region'].to_file(preprocessing_filename, driver='GPKG', mode='a', layer='search_region')\n",
    "            print(f'Layer {layer_name} calculated and saved to {preprocessing_filename}')"
   ]
  },
  {
   "cell_type": "markdown",
   "id": "9f5435e8-543b-4e7d-9977-08c295452ae9",
   "metadata": {},
   "source": [
    "### Selecting the grasslands to analyse\n",
    "The plots that are grassland can be obtained from the agriculture usage. We look only at permanent grassland, meaning the landplot has always been categorised as grassland during a certain time period (here 2016 to 2022)"
   ]
  },
  {
   "cell_type": "code",
   "execution_count": 6,
   "id": "358d1af4-0af5-4028-9875-deaa3afaab7e",
   "metadata": {},
   "outputs": [
    {
     "name": "stdout",
     "output_type": "stream",
     "text": [
      "KB20 contains 44999 landplots, of which 10882 (24%) are permanent grasslands\n"
     ]
    }
   ],
   "source": [
    "mask_grasslands = lgp['lgp_7j_BWK'] == 'Permanent grasland - hp'\n",
    "grasslands = lgp[mask_grasslands]\n",
    "print(f'KB20 contains {len(lgp)} landplots, of which {len(grasslands)} ({len(grasslands)/len(lgp)*100:.0f}%) are permanent grasslands')"
   ]
  },
  {
   "cell_type": "raw",
   "id": "e19c742c-d360-4b4e-8847-5b44bd0cc48a",
   "metadata": {},
   "source": [
    "mask_grasslands = np.zeros(len(grasslands), dtype=bool)\n",
    "for i in tqdm(range(len(grasslands)), total=len(grasslands), desc=\"Selecting grasslands to analyse\"):\n",
    "    intersection = grasslands.iloc[i]['geometry'].intersection(search_region.loc[0,'geometry'])\n",
    "    overlap_fraction = intersection.area / grasslands.iloc[i]['geometry'].area\n",
    "    if overlap_fraction > .75:\n",
    "        mask_grasslands[i] = True\n",
    "grasslands[mask_grasslands].to_file('DetectionMicrorelief_KB20.gpkg', driver='GPKG', mode='a', layer='grassland_selection')"
   ]
  },
  {
   "cell_type": "code",
   "execution_count": 7,
   "id": "05006d70-b762-4502-bcd8-da91cc02d45b",
   "metadata": {},
   "outputs": [
    {
     "name": "stdout",
     "output_type": "stream",
     "text": [
      "KB20 contains 10882 permanent grasslands, of which 7816 (72%) need to be analysed.\n"
     ]
    }
   ],
   "source": [
    "grasslands_to_inspect = geopandas.read_file('DetectionMicrorelief_KB20.gpkg', layer='grassland_selection')\n",
    "print(f'KB20 contains {len(grasslands)} permanent grasslands, of which {len(grasslands_to_inspect)}' + \n",
    "      f' ({len(grasslands_to_inspect)/len(grasslands)*100:.0f}%) need to be analysed.')"
   ]
  },
  {
   "cell_type": "markdown",
   "id": "835e873e-9a2d-4f4b-8c1b-9f42644f7e31",
   "metadata": {},
   "source": [
    "# Analysing the selected grasslands\n",
    "The categorisation of the grassland is based on the presence of ditches in the landplot. When a buffer zone around the ditches of 30 m covers 70% of the landplot's area, the grassland can be categorised as HPR. Therefore, we will try to detect the ditches and calculate the buffer fraction, which we store as a new attribute for each landplot. \n",
    "\n",
    "First we add this new attribute to the table for each selected grasslands and set its value to nan."
   ]
  },
  {
   "cell_type": "code",
   "execution_count": 8,
   "id": "145f3790-1292-4452-91c5-4e00d89e975a",
   "metadata": {},
   "outputs": [],
   "source": [
    "grasslands_to_inspect['ditch_buffer_fraction'] = np.nan"
   ]
  },
  {
   "cell_type": "markdown",
   "id": "a8cf164a-1b54-4f7a-92da-a8f6bb6fd1ba",
   "metadata": {},
   "source": [
    "To performs the necessary processing step to calculate areal fraction of the buffer zone, the `HprDitchDetector` class from this package can be used\n",
    "\n",
    "To do so, the `HprDitchDetector` uses some default configuration, which are stored in a yaml file. Nevertheless, these default configurations can be overwritten during initialisation of a new object by including a user-defined configuration (dictionary format).\n",
    "\n",
    "To detect the ditches, the `HprDitchDetector` relies on a `LineSegmentDetector` object. This also uses default configuration saved in the samen yaml file, which can be overwritten similarly."
   ]
  },
  {
   "cell_type": "code",
   "execution_count": 9,
   "id": "95627826-c488-4650-a072-d1cc2fac49de",
   "metadata": {},
   "outputs": [],
   "source": [
    "lsd = LineSegmentDetector()\n",
    "user_config = {'buffer_zone': {\n",
    "                    'distance': 15.},\n",
    "               'filter_background': {\n",
    "                    'threshold_value': .5*255}\n",
    "              }\n",
    "hpr_detector = HprDitchDetector(VITO_map, lsd, config=user_config)"
   ]
  },
  {
   "cell_type": "markdown",
   "id": "1082e2fe-0246-4b0b-8b55-15151ee3c7d6",
   "metadata": {},
   "source": [
    "To calculate the buffer_fraction, we iterate through all the selected landplots and perform the processing. For debugging purposes we will also keep the geometry of the detected ditches and buffer zones."
   ]
  },
  {
   "cell_type": "code",
   "execution_count": null,
   "id": "0e758f11-9871-42c0-923f-ff244933b72c",
   "metadata": {},
   "outputs": [
    {
     "data": {
      "application/vnd.jupyter.widget-view+json": {
       "model_id": "9e98fc9e1935438ca780d1efa376b843",
       "version_major": 2,
       "version_minor": 0
      },
      "text/plain": [
       "Processeing selected grasslands:   0%|          | 0/7816 [00:00<?, ?it/s]"
      ]
     },
     "metadata": {},
     "output_type": "display_data"
    }
   ],
   "source": [
    "ditches = [None] *len(grasslands_to_inspect) #geopandas.GeoDataFrame(columns=['geometry'], crs=target_crs)\n",
    "buffer_zones = [None] *len(grasslands_to_inspect) #geopandas.GeoDataFrame(columns=['geometry'], crs=target_crs)\n",
    "\n",
    "for i in tqdm(range(len(grasslands_to_inspect)), desc=\"Processeing selected grasslands\"):\n",
    "    index = grasslands_to_inspect.index[i]\n",
    "    landplot = grasslands_to_inspect.iloc[i:i+1]\n",
    "    hpr_detector.process(landplot)\n",
    "    #ditches = pandas.concat([ditches, hpr_detector.get_ditches(multilinestring=True)], ignore_index=True)\n",
    "    #buffer_zones = pandas.concat([buffer_zones, hpr_detector.get_buffer_zone()], ignore_index=True)\n",
    "    ditches[i] = hpr_detector.get_ditches(multilinestring=True).geometry\n",
    "    buffer_zones[i] = hpr_detector.get_buffer_zone().geometry\n",
    "    grasslands_to_inspect.loc[index,'ditch_buffer_fraction'] = hpr_detector.get_hpr_fraction()\n",
    "\n",
    "ditches = [ditch.loc[0] for ditch in ditches]\n",
    "ditches = geopandas.GeoDataFrame(geometry=ditches, crs=target_crs)\n",
    "buffer_zones = [buffer_zone.loc[0] if len(buffer_zone) != 0 else None for buffer_zone in buffer_zones]\n",
    "buffer_zones = geopandas.GeoDataFrame(geometry=buffer_zones, crs=target_crs)\n",
    "\n",
    "print(f'Of the {len(grasslands_to_inspect)} inspected grasslands in KB20,' + \n",
    "      f'{len(grasslands_to_inspect[grasslands_to_inspect.ditch_buffer_fraction > .65])}' + \n",
    "      f'of them are hpr candidates based on ditch detection during this processing')"
   ]
  },
  {
   "cell_type": "markdown",
   "id": "ec623c79-c55d-433c-800b-8556e045e951",
   "metadata": {},
   "source": [
    "Once the processing is finished, we save the inspected grasslands with the computed buffer fraction in a new layer and also the line segments representing the ditches and the buffer zone within the landplot."
   ]
  },
  {
   "cell_type": "code",
   "execution_count": null,
   "id": "4231b6ba-2353-4111-ae91-d69d1b36d5dc",
   "metadata": {},
   "outputs": [],
   "source": [
    "grasslands_to_inspect.to_file('DetectionMicrorelief_KB20.gpkg', driver='GPKG', layer='grasslands_processed')\n",
    "ditches.to_file('DetectionMicrorelief_KB20.gpkg', driver='GPKG', layer='ditches')\n",
    "buffer_zones.to_file('DetectionMicrorelief_KB20.gpkg', driver='GPKG', layer='buffer_zones')"
   ]
  },
  {
   "cell_type": "code",
   "execution_count": null,
   "id": "e78cc0db-e562-4adb-9e7e-21456a05f78f",
   "metadata": {},
   "outputs": [],
   "source": [
    "# to read in previous processed landplots\n",
    "# grasslands_to_inspect = utils.open_vector_data('DetectionMicrorelief_KB20.gpkg', layer='grasslands_processed')\n",
    "# ditches = utils.open_vector_data('DetectionMicrorelief_KB20.gpkg', layer='ditches')\n",
    "# buffer_zones = utils.open_vector_data('DetectionMicrorelief_KB20.gpkg', layer='buffer_zones')"
   ]
  },
  {
   "cell_type": "markdown",
   "id": "5f5610b0-d9d4-492f-832b-75693986d6c2",
   "metadata": {},
   "source": [
    "Lastly, to visually inspect the landplots easily, you can make a combined plot of the VITO_map and the detected ditches for landplots with a certain buffer fraction. To do this, make the cell below a code cell (Run > Cell type > Change to code cell type) and run it after everything is processed."
   ]
  },
  {
   "cell_type": "code",
   "execution_count": null,
   "id": "84d490bb-12e1-4200-8331-d88be3e0e32b",
   "metadata": {},
   "outputs": [],
   "source": [
    "plot_directory = os.path.join(os.getcwd(),'plot')\n",
    "if not os.path.isdir(plot_directory): os.makedirs(plot_directory)\n",
    "for i in tqdm(range(len(grasslands_to_inspect)), desc=\"Plotting newly detected hpr grasslands\"):\n",
    "    grassland = grasslands_to_inspect.iloc[i]\n",
    "    \n",
    "    if grassland.ditch_buffer_fraction > .65:          \n",
    "        clipped_image = utils.clip_raster(VITO_map, grassland.geometry.geoms)\n",
    "    \n",
    "        fig, ax = plt.subplots()\n",
    "        # Display the raster image\n",
    "        rasterio.plot.show(clipped_image, ax=ax, cmap='gray_r')\n",
    "        # Plot the detected lines\n",
    "        grasslands_to_inspect[i:i+1].plot(ax=ax, edgecolor='green', lw=1, label='Perceel', facecolor='none')\n",
    "        buffer_zones.iloc[i:i+1].plot(ax=ax, color='orange', alpha=0.5, label='30m Buffer')\n",
    "        ditches.iloc[i:i+1].plot(ax=ax, color='purple', linewidth=2, label='Grachtjes')\n",
    "        \n",
    "        fig.suptitle(\"Detected Lines on Georeferenced Image\")\n",
    "        ax.set_title(f\"Ditches detected with a buffer zone fraction of {grassland.ditch_buffer_fraction}\")\n",
    "        ax.set_xlabel(\"Longitude\")\n",
    "        ax.set_ylabel(\"Latitude\")\n",
    "    \n",
    "        fig.savefig(f'plot/KB20_grassland-{grassland.OBJECTID}.png')\n",
    "        plt.close(fig)"
   ]
  },
  {
   "cell_type": "code",
   "execution_count": null,
   "id": "27e8e6d0-d6e0-4253-a92a-6bae482268cb",
   "metadata": {},
   "outputs": [],
   "source": []
  }
 ],
 "metadata": {
  "kernelspec": {
   "display_name": "Python 3 (ipykernel)",
   "language": "python",
   "name": "python3"
  },
  "language_info": {
   "codemirror_mode": {
    "name": "ipython",
    "version": 3
   },
   "file_extension": ".py",
   "mimetype": "text/x-python",
   "name": "python",
   "nbconvert_exporter": "python",
   "pygments_lexer": "ipython3",
   "version": "3.13.2"
  }
 },
 "nbformat": 4,
 "nbformat_minor": 5
}
