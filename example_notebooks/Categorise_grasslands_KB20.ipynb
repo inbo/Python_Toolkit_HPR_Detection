{
 "cells": [
  {
   "cell_type": "code",
   "execution_count": 1,
   "id": "f798fbd2-3c89-46bf-a5c5-fdc9d3a179a2",
   "metadata": {},
   "outputs": [],
   "source": [
    "#Standard libraries\n",
    "import os\n",
    "import time\n",
    "import sys\n",
    "#Third party libraries\n",
    "import rasterio\n",
    "import rasterio.plot\n",
    "import rasterio.mask\n",
    "import rasterio.io\n",
    "import matplotlib.pyplot as plt\n",
    "import numpy as np\n",
    "np.set_printoptions(legacy='1.25')\n",
    "import geopandas\n",
    "import pandas\n",
    "import fiona\n",
    "from tqdm.notebook import tqdm\n",
    "from shapely.geometry import Polygon\n",
    "#Local applications\n",
    "package_dir = os.path.dirname(os.getcwd())\n",
    "if package_dir not in sys.path:\n",
    "    sys.path.insert(0, package_dir)\n",
    "from hpr_detection_toolkit import utils\n",
    "from hpr_detection_toolkit.line_detection import LineSegmentDetector\n",
    "from hpr_detection_toolkit.hpr_detection import HprDitchDetector"
   ]
  },
  {
   "cell_type": "markdown",
   "id": "f4552454-2a76-41ae-9775-39527e22c5b5",
   "metadata": {},
   "source": [
    "# Setting up\n",
    "First we define the coordinate reference system in which we want to work in. "
   ]
  },
  {
   "cell_type": "code",
   "execution_count": 2,
   "id": "83a08b4e-951b-4314-a3d1-6c215b694f27",
   "metadata": {},
   "outputs": [],
   "source": [
    "target_crs = \"EPSG:31370\""
   ]
  },
  {
   "cell_type": "markdown",
   "id": "ffc111b0-20f4-44fd-97cd-ded745c03327",
   "metadata": {},
   "source": [
    "Next, we get point our program to the necessary data. Later, we load the data using the `utils` module of this package, which will check if the crs of the data sets and performs a reprojection on the fly if needed.\n",
    "\n",
    "In this example, we will use the vector data of the biological value map (BWK) and the agricultural usages plots (Lgp or Lbgebrperc), and the raster data of the VITO AI map regarding microrelief.\n",
    "\n",
    "> **Adjust the filepath for your own local set-up!**"
   ]
  },
  {
   "cell_type": "code",
   "execution_count": 3,
   "id": "93a13efa-5fd1-4ac0-878d-621e691b57dd",
   "metadata": {},
   "outputs": [],
   "source": [
    "bwk_filename = 'E:/Stage INBO/Data/BWK_2_20231107_GML/GML/BwkHab.gml'  # change this file path!\n",
    "lgp_filename = 'E:/Stage INBO/Data/Landbouwaangifte 2016-2020/Lbgb2016_2020.gdb'  # change this file path!\n",
    "VITO_filename = 'E:/Stage INBO/Data/VITO_microrelief/KB20_predicted_logits.tif'  # change this file path!\n",
    "output_filename = 'DetectionMicrorelief_KB20.gpkg'"
   ]
  },
  {
   "cell_type": "markdown",
   "id": "8eace476-18c0-4ba4-aa44-760c07cba829",
   "metadata": {},
   "source": [
    "# Selecting the grasslands\n",
    "### Masking the search region in the BWK\n",
    "Not all grasslands should be inspected. The once that are already categorised as valuable don't need to be processed. To evaluate this, we use the BWK, making a filter out of it to select the right grasslands to perform the analyses on. \n",
    "\n",
    "1. We should only analyse grasslands that are not a habitat (HAB1 contains `gh` or `rbb`)\n",
    "2. Grasslands that are already categorised as `hpr`of `hpr+` in EENH1, don't need to be analysed"
   ]
  },
  {
   "cell_type": "raw",
   "id": "4491ba8a",
   "metadata": {},
   "source": [
    "bwk = utils.open_vector_data(bwk_filename, layer='BwkHab', target_crs=target_crs)\n",
    "mask_hpr = (bwk['EENH1'] == 'hpr') | (bwk['EENH1'] == 'hpr+')\n",
    "mask_gh = bwk['HAB1'].str.contains('gh')\n",
    "mask_rbb = bwk['HAB1'].str.contains('rbb')\n",
    "mask = (mask_gh | mask_rbb) & ~mask_hpr"
   ]
  },
  {
   "cell_type": "markdown",
   "id": "d3e86353-a224-40aa-8cbf-46756ee7b32a",
   "metadata": {},
   "source": [
    "To easily work with the search and nosearch region, we unify all the polygons into one geometry and store it as a geopandas.DataFrame. This step may already been preprocessed in the past. Therefore we check if the file already exist, and if not we calculate it and store it for future analyses."
   ]
  },
  {
   "cell_type": "code",
   "execution_count": 4,
   "id": "beb5f162-eebb-42df-a1a1-3415b994aeb5",
   "metadata": {},
   "outputs": [
    {
     "name": "stdout",
     "output_type": "stream",
     "text": [
      "Preprocessed file detected.\n",
      "Checking layers in data/DetectionMicrorelief_preprocessing.gpkg\n",
      "Layer search_region found in data/DetectionMicrorelief_preprocessing.gpkg and loaded in\n",
      "Layer nosearch_region found in data/DetectionMicrorelief_preprocessing.gpkg and loaded in\n"
     ]
    }
   ],
   "source": [
    "preprocessing_filename = 'data/DetectionMicrorelief_preprocessing.gpkg'\n",
    "preprocessed_layers = {}\n",
    "\n",
    "layers_to_load = ['search_region', 'nosearch_region']\n",
    "if os.path.isfile(preprocessing_filename):\n",
    "    print(f'Preprocessed file detected.')\n",
    "    print(f'Checking layers in {preprocessing_filename}')\n",
    "    for layer_name in layers_to_load:\n",
    "        if layer_name in fiona.listlayers(preprocessing_filename):\n",
    "            preprocessed_layers[layer_name] = geopandas.read_file(preprocessing_filename, layer=layer_name)\n",
    "            print(f'Layer {layer_name} found in {preprocessing_filename} and loaded in')\n",
    "\n",
    "for layer_name in layers_to_load:\n",
    "    if layer_name not in preprocessed_layers.keys():\n",
    "        print(f'Layer {layer_name} not found in {preprocessing_filename}')\n",
    "        if layer_name == 'nosearch_region':\n",
    "            nosearch_region = bwk[~mask].geometry.union_all()\n",
    "            preprocessed_layer['nosearch_region'] = geopandas.GeoDataFrame(geometry=[nosearch_region], crs=target_crs)\n",
    "            preprocessed_layer['nosearch_region'].to_file(preprocessing_filename, driver='GPKG', mode='a', layer='nosearch_region')\n",
    "            print(f'Layer {layer_name} calculated and saved to {preprocessing_filename}')\n",
    "        if layer_name == 'search_region':\n",
    "            search_region = bwk[mask].geometry.union_all()\n",
    "            preprocessed_layer['search_region'] = geopandas.GeoDataFrame(geometry=[search_region], crs=target_crs)\n",
    "            preprocessed_layer['search_region'].to_file(preprocessing_filename, driver='GPKG', mode='a', layer='search_region')\n",
    "            print(f'Layer {layer_name} calculated and saved to {preprocessing_filename}')"
   ]
  },
  {
   "cell_type": "markdown",
   "id": "9f5435e8-543b-4e7d-9977-08c295452ae9",
   "metadata": {},
   "source": [
    "### Loading the permanent grasslands\n",
    "The plots that are grassland can be obtained from the agriculture usage. We look only at permanent grassland, meaning the landplot has always been categorised as grassland during a certain time period (here 2016 to 2023)\n",
    "\n",
    "Note: to speed up the calculations, we limit this example to KB20 of the VITO raster map. Therefore, we only use the agricultural land-usage plots located within the boundaries of this raster map."
   ]
  },
  {
   "cell_type": "code",
   "execution_count": 5,
   "id": "494f335c-5c73-421a-bfa7-f6d37791efa0",
   "metadata": {},
   "outputs": [
    {
     "name": "stdout",
     "output_type": "stream",
     "text": [
      "Vector data in E:/Stage INBO/Data/Landbouwaangifte 2016-2020/Lbgb2016_2020.gdb in EPSG:31370, no reprojection.\n"
     ]
    }
   ],
   "source": [
    "lgp = utils.open_vector_data(lgp_filename, layer='Lbgebrperc2016_2023', target_crs=target_crs)"
   ]
  },
  {
   "cell_type": "code",
   "execution_count": 6,
   "id": "9d3fce85-bb6b-4e1d-896b-2fe7d52556b1",
   "metadata": {},
   "outputs": [
    {
     "name": "stdout",
     "output_type": "stream",
     "text": [
      "Raster data in E:/Stage INBO/Data/VITO_microrelief/KB20_predicted_logits.tif in EPSG:31370, no reprojection.\n"
     ]
    }
   ],
   "source": [
    "VITO_map = utils.open_raster_data(VITO_filename, target_crs=target_crs)"
   ]
  },
  {
   "cell_type": "code",
   "execution_count": 7,
   "id": "79b421a7-b5b5-44ba-b521-a1f5c255351e",
   "metadata": {},
   "outputs": [],
   "source": [
    "left, bottom, right, top = VITO_map.bounds\n",
    "KB20_boarder = Polygon([(left, bottom), (left, top), (right, top), (right, bottom)])\n",
    "lgp = lgp[lgp.within(KB20_boarder)]"
   ]
  },
  {
   "cell_type": "code",
   "execution_count": 8,
   "id": "358d1af4-0af5-4028-9875-deaa3afaab7e",
   "metadata": {},
   "outputs": [
    {
     "name": "stdout",
     "output_type": "stream",
     "text": [
      "KB20 contains 44999 landplots, of which 10882 (24%) are permanent grasslands\n"
     ]
    }
   ],
   "source": [
    "mask_grasslands = lgp['lgp_7j_BWK'] == 'Permanent grasland - hp'\n",
    "grasslands = lgp[mask_grasslands]\n",
    "print(f'KB20 contains {len(lgp)} landplots, of which {len(grasslands)} ({len(grasslands)/len(lgp)*100:.0f}%) are permanent grasslands')"
   ]
  },
  {
   "cell_type": "markdown",
   "id": "6cad9012",
   "metadata": {},
   "source": [
    "### Selecting permanent grasslands to analyse.\n",
    "Next, we check which grassland are already categorised in the BWK as valuable (hpr or habitat, see mask BKW), as these do not need to be processed. We check if this selection was already performed and saved to save time "
   ]
  },
  {
   "cell_type": "code",
   "execution_count": 9,
   "id": "5d683d42",
   "metadata": {},
   "outputs": [
    {
     "name": "stdout",
     "output_type": "stream",
     "text": [
      "Output file 'DetectionMicrorelief_KB20.gpkg' detected.\n",
      "Checking if file contains selection of grasslands to inspect.\n",
      "Grassland selection found in and loaded in\n",
      "KB20 contains 10882 permanent grasslands, of which 7816 (72%) need to be analysed.\n"
     ]
    }
   ],
   "source": [
    "grasslands_to_inspect = None\n",
    "\n",
    "if os.path.isfile(output_filename):\n",
    "    print(f\"Output file '{output_filename}' detected.\")\n",
    "    print(f\"Checking if file contains selection of grasslands to inspect.\")\n",
    "    if 'grassland_selection' in fiona.listlayers(output_filename):\n",
    "        grasslands_to_inspect = geopandas.read_file(output_filename, layer='grassland_selection')\n",
    "        print(f'Grassland selection found in and loaded in')\n",
    "\n",
    "if grasslands_to_inspect is None:\n",
    "    print(f'Evaluating which grasslands to process')\n",
    "    mask_grasslands = np.zeros(len(grasslands), dtype=bool)\n",
    "    for i in tqdm(range(len(grasslands)), total=len(grasslands), desc=\"Selecting grasslands to analyse\"):\n",
    "        intersection = grasslands.iloc[i]['geometry'].intersection(search_region.loc[0,'geometry'])\n",
    "        overlap_fraction = intersection.area / grasslands.iloc[i]['geometry'].area\n",
    "        if overlap_fraction > .75:\n",
    "            mask_grasslands[i] = True\n",
    "    grasslands_to_inspect = grasslands[mask_grasslands]\n",
    "    grasslands_to_inspect.to_file(output_filename, driver='GPKG', mode='a', layer='grassland_selection')\n",
    "    print(f\"Grasslands selected and stored to layer 'grassland_selection' in {output_filename}.\")\n",
    "    \n",
    "print(f'KB20 contains {len(grasslands)} permanent grasslands, of which {len(grasslands_to_inspect)}' + \n",
    "      f' ({len(grasslands_to_inspect)/len(grasslands)*100:.0f}%) need to be analysed.')"
   ]
  },
  {
   "cell_type": "markdown",
   "id": "835e873e-9a2d-4f4b-8c1b-9f42644f7e31",
   "metadata": {},
   "source": [
    "# Analysing the selected grasslands\n",
    "The categorisation of the grassland is based on the presence of ditches in the landplot. When a buffer zone around the ditches of 15 m covers 70% of the landplot's area, the grassland can be categorised as HPR. Therefore, we will try to detect the ditches and calculate the buffer fraction, which we store as a new attribute for each landplot. \n",
    "\n",
    "First, we add a new attribute to the table for each selected grasslands to hold the area fraction of the buffer zone around the ditches, and we set its value to nan."
   ]
  },
  {
   "cell_type": "code",
   "execution_count": 10,
   "id": "7fe7751f-1f8e-47bb-9232-666ff1ba11f5",
   "metadata": {},
   "outputs": [],
   "source": [
    "grasslands_to_inspect['ditch_buffer_fraction'] = np.nan"
   ]
  },
  {
   "cell_type": "markdown",
   "id": "a8cf164a-1b54-4f7a-92da-a8f6bb6fd1ba",
   "metadata": {},
   "source": [
    "To performs the necessary processing step to calculate areal fraction of the buffer zone, the `HprDitchDetector` class from this package can be used\n",
    "\n",
    "To do so, the `HprDitchDetector` uses some default configuration, which are stored in a yaml file. Nevertheless, these default configurations can be overwritten during initialisation of a new object by including a user-defined configuration (dictionary format).\n",
    "\n",
    "To detect the ditches, the `HprDitchDetector` relies on a `LineSegmentDetector` object. This also uses default configuration saved in the samen yaml file, which can be overwritten similarly."
   ]
  },
  {
   "cell_type": "code",
   "execution_count": 11,
   "id": "95627826-c488-4650-a072-d1cc2fac49de",
   "metadata": {},
   "outputs": [],
   "source": [
    "lsd = LineSegmentDetector()\n",
    "user_config = {'buffer_zone': {\n",
    "                    'distance': 15.},\n",
    "               'filter_background': {\n",
    "                    'threshold_value': .5*255}\n",
    "              }\n",
    "hpr_detector = HprDitchDetector(VITO_map, lsd, config=user_config)"
   ]
  },
  {
   "cell_type": "markdown",
   "id": "1082e2fe-0246-4b0b-8b55-15151ee3c7d6",
   "metadata": {},
   "source": [
    "To calculate the buffer_fraction, we iterate through all the selected landplots and perform the processing. For debugging purposes we will also keep the geometry of the detected ditches and buffer zones. Once processed we save everything to our output geopackage. If you did this already, you could skip the following code block and read in the data directly (see second code block bellow)."
   ]
  },
  {
   "cell_type": "code",
   "execution_count": 12,
   "id": "0e758f11-9871-42c0-923f-ff244933b72c",
   "metadata": {},
   "outputs": [
    {
     "data": {
      "application/vnd.jupyter.widget-view+json": {
       "model_id": "ca5dc61d89a148a781264993e8836ac1",
       "version_major": 2,
       "version_minor": 0
      },
      "text/plain": [
       "Processeing selected grasslands:   0%|          | 0/7816 [00:00<?, ?it/s]"
      ]
     },
     "metadata": {},
     "output_type": "display_data"
    }
   ],
   "source": [
    "ditches = [None] *len(grasslands_to_inspect)\n",
    "buffer_zones = [None] *len(grasslands_to_inspect)\n",
    "\n",
    "for i in tqdm(range(len(grasslands_to_inspect)), desc=\"Processeing selected grasslands\"):\n",
    "    index = grasslands_to_inspect.index[i]\n",
    "    landplot = grasslands_to_inspect.iloc[i:i+1]\n",
    "    hpr_detector.process(landplot)\n",
    "    ditches[i] = hpr_detector.get_ditches(multilinestring=True).geometry.loc[0]\n",
    "    buffer_zones[i] = hpr_detector.get_buffer_zone().geometry\n",
    "    if buffer_zones[i] is not None: buffer_zones[i] = buffer_zones[i].loc[0]\n",
    "    grasslands_to_inspect.loc[index,'ditch_buffer_fraction'] = hpr_detector.get_hpr_fraction()\n",
    "\n",
    "ditches = geopandas.GeoDataFrame(geometry=ditches, crs=target_crs)\n",
    "buffer_zones = geopandas.GeoDataFrame(geometry=buffer_zones, crs=target_crs)\n",
    "\n",
    "grasslands_to_inspect.to_file(output_filename, driver='GPKG', layer='grasslands_processed')\n",
    "ditches.to_file(output_filename, driver='GPKG', layer='ditches')\n",
    "buffer_zones.to_file(output_filename, driver='GPKG', layer='buffer_zones')"
   ]
  },
  {
   "cell_type": "markdown",
   "id": "17d87955-0fd7-4d4c-9a01-d38266d3f808",
   "metadata": {},
   "source": [
    "It is possible that you have already processed these grasslands earlier. In that case you can just open the saved files"
   ]
  },
  {
   "cell_type": "code",
   "execution_count": 13,
   "id": "e78cc0db-e562-4adb-9e7e-21456a05f78f",
   "metadata": {},
   "outputs": [
    {
     "name": "stdout",
     "output_type": "stream",
     "text": [
      "Vector data in DetectionMicrorelief_KB20.gpkg in EPSG:31370, no reprojection.\n",
      "Vector data in DetectionMicrorelief_KB20.gpkg in EPSG:31370, no reprojection.\n",
      "Vector data in DetectionMicrorelief_KB20.gpkg in EPSG:31370, no reprojection.\n"
     ]
    }
   ],
   "source": [
    "grasslands_to_inspect = utils.open_vector_data(output_filename, layer='grasslands_processed')\n",
    "ditches = utils.open_vector_data(output_filename, layer='ditches')\n",
    "buffer_zones = utils.open_vector_data(output_filename, layer='buffer_zones')"
   ]
  },
  {
   "cell_type": "code",
   "execution_count": 14,
   "id": "634d5464-df4c-4714-94dc-c7196d312514",
   "metadata": {},
   "outputs": [
    {
     "name": "stdout",
     "output_type": "stream",
     "text": [
      "Of the 7816 inspected grasslands in KB20, 89 of them are hpr candidates based on ditch detection during this processing\n"
     ]
    }
   ],
   "source": [
    "print(f'Of the {len(grasslands_to_inspect)} inspected grasslands in KB20, ' + \n",
    "      f'{len(grasslands_to_inspect[grasslands_to_inspect.ditch_buffer_fraction > .65])} ' + \n",
    "      f'of them are hpr candidates based on ditch detection during this processing')"
   ]
  },
  {
   "cell_type": "markdown",
   "id": "5f5610b0-d9d4-492f-832b-75693986d6c2",
   "metadata": {},
   "source": [
    "Lastly, to visually inspect the grasslands easily, you can make a combined plot of the VITO_map and the detected ditches for landplots with a certain buffer fraction."
   ]
  },
  {
   "cell_type": "code",
   "execution_count": 17,
   "id": "84d490bb-12e1-4200-8331-d88be3e0e32b",
   "metadata": {},
   "outputs": [
    {
     "data": {
      "application/vnd.jupyter.widget-view+json": {
       "model_id": "4ce8ef63a6514d06a9d43e9cb089615f",
       "version_major": 2,
       "version_minor": 0
      },
      "text/plain": [
       "Plotting newly detected hpr grasslands:   0%|          | 0/7816 [00:00<?, ?it/s]"
      ]
     },
     "metadata": {},
     "output_type": "display_data"
    }
   ],
   "source": [
    "plot_directory = os.path.join(os.getcwd(),'plot')\n",
    "if not os.path.isdir(plot_directory): os.makedirs(plot_directory)\n",
    "for i in tqdm(range(len(grasslands_to_inspect)), desc=\"Plotting newly detected hpr grasslands\"):\n",
    "    grassland = grasslands_to_inspect.iloc[i]\n",
    "    \n",
    "    if grassland.ditch_buffer_fraction > .65:          \n",
    "        clipped_image = utils.clip_raster(VITO_map, grassland.geometry.geoms)\n",
    "    \n",
    "        fig, ax = plt.subplots()\n",
    "        # Display the raster image\n",
    "        rasterio.plot.show(clipped_image, ax=ax, cmap='gray_r')\n",
    "        # Plot the detected lines\n",
    "        grasslands_to_inspect[i:i+1].plot(ax=ax, edgecolor='green', lw=1, label='Perceel', facecolor='none')\n",
    "        buffer_zones.iloc[i:i+1].plot(ax=ax, color='orange', alpha=0.5, label='Buffer')\n",
    "        ditches.iloc[i:i+1].plot(ax=ax, color='purple', linewidth=2, label='Grachtjes')\n",
    "        \n",
    "        fig.suptitle(\"Detected Lines on Georeferenced Image\")\n",
    "        ax.set_title(f\"Ditches detected with a buffer zone fraction of {grassland.ditch_buffer_fraction}\")\n",
    "        ax.set_xlabel(\"Longitude\")\n",
    "        ax.set_ylabel(\"Latitude\")\n",
    "    \n",
    "        fig.savefig(f'plot/KB20_grassland-{grassland.OBJECTID}.png')\n",
    "        plt.close(fig)"
   ]
  },
  {
   "cell_type": "code",
   "execution_count": null,
   "id": "2c3906ca-619a-4c50-bee3-6b101bfc3875",
   "metadata": {},
   "outputs": [],
   "source": []
  }
 ],
 "metadata": {
  "kernelspec": {
   "display_name": "Python 3 (ipykernel)",
   "language": "python",
   "name": "python3"
  },
  "language_info": {
   "codemirror_mode": {
    "name": "ipython",
    "version": 3
   },
   "file_extension": ".py",
   "mimetype": "text/x-python",
   "name": "python",
   "nbconvert_exporter": "python",
   "pygments_lexer": "ipython3",
   "version": "3.13.2"
  }
 },
 "nbformat": 4,
 "nbformat_minor": 5
}
